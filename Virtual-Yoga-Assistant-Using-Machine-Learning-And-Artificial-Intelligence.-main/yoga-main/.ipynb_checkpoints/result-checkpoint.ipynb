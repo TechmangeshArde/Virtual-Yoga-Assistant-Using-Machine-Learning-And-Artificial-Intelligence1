{
 "cells": [
  {
   "cell_type": "code",
   "execution_count": 7,
   "id": "9ffa7a16",
   "metadata": {},
   "outputs": [
    {
     "ename": "TabError",
     "evalue": "inconsistent use of tabs and spaces in indentation (2353227422.py, line 45)",
     "output_type": "error",
     "traceback": [
      "\u001b[1;36m  Cell \u001b[1;32mIn[7], line 45\u001b[1;36m\u001b[0m\n\u001b[1;33m    print(pred)\u001b[0m\n\u001b[1;37m    ^\u001b[0m\n\u001b[1;31mTabError\u001b[0m\u001b[1;31m:\u001b[0m inconsistent use of tabs and spaces in indentation\n"
     ]
    }
   ],
   "source": [
    "import cv2 \n",
    "import numpy as np \n",
    "import mediapipe as mp \n",
    "from keras.models import load_model \n",
    "\n",
    "\n",
    "def inFrame(lst):\n",
    "\tif lst[28].visibility > 0.6 and lst[27].visibility > 0.6 and lst[15].visibility>0.6 and lst[16].visibility>0.6:\n",
    "\t\treturn True \n",
    "\treturn False\n",
    "\n",
    "model  = load_model(\"model.h5\")\n",
    "label = np.load(\"labels.npy\")\n",
    "\n",
    "\n",
    "\n",
    "holistic = mp.solutions.pose\n",
    "holis = holistic.Pose()\n",
    "drawing = mp.solutions.drawing_utils\n",
    "\n",
    "cap = cv2.VideoCapture(0)\n",
    "print(pred)\n",
    "\n",
    "while True:\n",
    "\tlst = []\n",
    "\n",
    "\t_, frm = cap.read()\n",
    "\n",
    "\twindow = np.zeros((940,940,3), dtype=\"uint8\")\n",
    "\n",
    "\tfrm = cv2.flip(frm, 1)\n",
    "\n",
    "\tres = holis.process(cv2.cvtColor(frm, cv2.COLOR_BGR2RGB))\n",
    "\n",
    "\tfrm = cv2.blur(frm, (4,4))\n",
    "\tif res.pose_landmarks and inFrame(res.pose_landmarks.landmark):\n",
    "\t\tfor i in res.pose_landmarks.landmark:\n",
    "\t\t\tlst.append(i.x - res.pose_landmarks.landmark[0].x)\n",
    "\t\t\tlst.append(i.y - res.pose_landmarks.landmark[0].y)\n",
    "\n",
    "\t\tlst = np.array(lst).reshape(1,-1)\n",
    "\n",
    "\t\tp = model.predict(lst)\n",
    "\t\tpred = label[np.argmax(p)]\n",
    "        \n",
    "\n",
    "\t\tif p[0][np.argmax(p)] > 0.75:\n",
    "\t\t\tcv2.putText(window, pred , (180,180),cv2.FONT_ITALIC, 1.3, (0,255,0),2)\n",
    "            \n",
    "\n",
    "\t\telse:\n",
    "\t\t\tcv2.putText(window, \"Asana is either wrong not trained\" , (100,180),cv2.FONT_ITALIC, 1.8, (0,0,255),3)\n",
    "\n",
    "\telse: \n",
    "\t\tcv2.putText(frm, \"Make Sure Full body visible\", (100,450), cv2.FONT_HERSHEY_SIMPLEX, 0.8, (0,0,255),3)\n",
    "\n",
    "\t\t\n",
    "\tdrawing.draw_landmarks(frm, res.pose_landmarks, holistic.POSE_CONNECTIONS,\n",
    "\t\t\t\t\t\t\tconnection_drawing_spec=drawing.DrawingSpec(color=(255,255,255), thickness=6 ),\n",
    "\t\t\t\t\t\t\t landmark_drawing_spec=drawing.DrawingSpec(color=(0,0,255), circle_radius=3, thickness=3))\n",
    "\n",
    "\n",
    "\twindow[420:900, 170:810, :] = cv2.resize(frm, (640, 480))\n",
    "\n",
    "\tcv2.imshow(\"window\", window)\n",
    "\n",
    "\tif cv2.waitKey(1) == 27:\n",
    "\t\tcv2.destroyAllWindows()\n",
    "\t\tcap.release()\n",
    "\t\tbreak\n",
    "\n"
   ]
  },
  {
   "cell_type": "code",
   "execution_count": 2,
   "id": "1c580be5",
   "metadata": {},
   "outputs": [
    {
     "name": "stdout",
     "output_type": "stream",
     "text": [
      "Collecting pyttsx3Note: you may need to restart the kernel to use updated packages.\n",
      "\n",
      "  Obtaining dependency information for pyttsx3 from https://files.pythonhosted.org/packages/33/9a/de4781245f5ad966646fd276259ef7cfd400ba3cf7d5db7c0d5aab310c20/pyttsx3-2.90-py3-none-any.whl.metadata\n",
      "  Downloading pyttsx3-2.90-py3-none-any.whl.metadata (3.6 kB)\n",
      "Collecting comtypes (from pyttsx3)\n",
      "  Obtaining dependency information for comtypes from https://files.pythonhosted.org/packages/c3/29/011526bf23a3a0df767565e312adfdf008626132d014579c5d8e1f4162e3/comtypes-1.4.0-py3-none-any.whl.metadata\n",
      "  Downloading comtypes-1.4.0-py3-none-any.whl.metadata (4.1 kB)\n",
      "Collecting pypiwin32 (from pyttsx3)\n",
      "  Obtaining dependency information for pypiwin32 from https://files.pythonhosted.org/packages/d0/1b/2f292bbd742e369a100c91faa0483172cd91a1a422a6692055ac920946c5/pypiwin32-223-py3-none-any.whl.metadata\n",
      "  Downloading pypiwin32-223-py3-none-any.whl.metadata (236 bytes)\n",
      "Requirement already satisfied: pywin32 in c:\\users\\dell\\anaconda3\\lib\\site-packages (from pyttsx3) (305.1)\n",
      "Downloading pyttsx3-2.90-py3-none-any.whl (39 kB)\n",
      "Downloading comtypes-1.4.0-py3-none-any.whl (197 kB)\n",
      "   ---------------------------------------- 0.0/197.7 kB ? eta -:--:--\n",
      "   ---------------------------------------  194.6/197.7 kB 3.9 MB/s eta 0:00:01\n",
      "   ---------------------------------------- 197.7/197.7 kB 3.0 MB/s eta 0:00:00\n",
      "Downloading pypiwin32-223-py3-none-any.whl (1.7 kB)\n",
      "Installing collected packages: comtypes, pypiwin32, pyttsx3\n",
      "Successfully installed comtypes-1.4.0 pypiwin32-223 pyttsx3-2.90\n"
     ]
    }
   ],
   "source": [
    "pip install pyttsx3"
   ]
  },
  {
   "cell_type": "code",
   "execution_count": null,
   "id": "1f35cd3b",
   "metadata": {},
   "outputs": [],
   "source": []
  }
 ],
 "metadata": {
  "kernelspec": {
   "display_name": "Python 3 (ipykernel)",
   "language": "python",
   "name": "python3"
  },
  "language_info": {
   "codemirror_mode": {
    "name": "ipython",
    "version": 3
   },
   "file_extension": ".py",
   "mimetype": "text/x-python",
   "name": "python",
   "nbconvert_exporter": "python",
   "pygments_lexer": "ipython3",
   "version": "3.11.5"
  }
 },
 "nbformat": 4,
 "nbformat_minor": 5
}
